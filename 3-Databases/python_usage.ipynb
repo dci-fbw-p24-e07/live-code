{
 "cells": [
  {
   "cell_type": "markdown",
   "id": "77e2b1ae",
   "metadata": {},
   "source": [
    "# Using PostgreSQL with Python\n",
    "\n",
    "## Basics\n",
    "- Installing `psycopg2` or `psycopg2-binary`\n",
    "- Creating a DB connection using psycopg2\n",
    "- Creating a cursor to execute SQL Commands\n",
    "- CRUD using the cursor\n",
    "- Mapping query results to Python data types"
   ]
  },
  {
   "cell_type": "code",
   "execution_count": null,
   "id": "e1d4589b",
   "metadata": {},
   "outputs": [],
   "source": []
  }
 ],
 "metadata": {
  "language_info": {
   "name": "python"
  }
 },
 "nbformat": 4,
 "nbformat_minor": 5
}
