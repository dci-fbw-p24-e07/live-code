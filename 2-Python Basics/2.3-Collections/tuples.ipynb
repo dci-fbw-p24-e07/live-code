{
 "cells": [
  {
   "cell_type": "markdown",
   "metadata": {},
   "source": [
    "# Tuples\n",
    "- Create a tuple\n",
    "- Access tuple items \n",
    "- Iterate through a tuple\n",
    "\n",
    "## What is a tuple?\n",
    "\n",
    "- Similar toa Python List. the main difference is that a tuple cannot be modified once it has ben created\n",
    "- It is pointless to create an empty tuple\n",
    "\n",
    "## Creating a tuple\n",
    "\n",
    "1. A tuple can be declared using the `()` parentheses\n",
    "2. We can use the `tuple()` constructor to declare it. It ***takes 1 argument***, which has to be an iterable(lists, sets, tuples, dictionaries, strings)\n"
   ]
  },
  {
   "cell_type": "code",
   "execution_count": 2,
   "metadata": {},
   "outputs": [
    {
     "name": "stdout",
     "output_type": "stream",
     "text": [
      "('Jack', 'Myra', 'Leslie', 'Lisa')\n",
      "('Jack', 12, ('Basketball', 'Gaming', 'Archery'))\n"
     ]
    }
   ],
   "source": [
    "# Using the `()` parentheses\n",
    "\n",
    "names = (\"Jack\", \"Myra\", \"Leslie\", \"Lisa\")\n",
    "\n",
    "# Create a with different data types\n",
    "tuple_1 = (\"Jack\", 12, (\"Basketball\", \"Gaming\", \"Archery\"))\n",
    "\n",
    "print(names)\n",
    "print(tuple_1)\n"
   ]
  },
  {
   "cell_type": "code",
   "execution_count": 6,
   "metadata": {},
   "outputs": [
    {
     "name": "stdout",
     "output_type": "stream",
     "text": [
      "(1, 2, 3, 4, 5, 6)\n"
     ]
    },
    {
     "data": {
      "text/plain": [
       "12"
      ]
     },
     "execution_count": 6,
     "metadata": {},
     "output_type": "execute_result"
    }
   ],
   "source": [
    "# Using the `tuple()` method\n",
    "list_1 = [1, 2, 3, 4, 5, 6]\n",
    "tuple_2 = tuple(list_1) # Takes an iterable as the only argument\n",
    "\n",
    "print(tuple_2)"
   ]
  },
  {
   "cell_type": "markdown",
   "metadata": {},
   "source": [
    "## Accessing Tuple Items\n",
    "\n",
    "- It uses indexing to associate elements"
   ]
  },
  {
   "cell_type": "code",
   "execution_count": 11,
   "metadata": {},
   "outputs": [
    {
     "name": "stdout",
     "output_type": "stream",
     "text": [
      "Football\n",
      "Hockey\n",
      "('Rugby', 'Hockey', 'Tennis')\n"
     ]
    }
   ],
   "source": [
    "sports = (\"Football\", \"Rugby\", \"Hockey\", \"Tennis\", \"Athletics\")\n",
    "\n",
    "# access the 1st element\n",
    "print(sports[0])\n",
    "\n",
    "# access the 3rd element\n",
    "print(sports[2])\n",
    "\n",
    "# access the 2nd to the 4th element\n",
    "print(sports[1:4])\n"
   ]
  },
  {
   "cell_type": "markdown",
   "metadata": {},
   "source": [
    "## Iterating through a tuple\n",
    "\n",
    "- We can use a `for` loop to iterate over items of a tuple."
   ]
  },
  {
   "cell_type": "code",
   "execution_count": 12,
   "metadata": {},
   "outputs": [
    {
     "name": "stdout",
     "output_type": "stream",
     "text": [
      "Football\n",
      "Rugby\n",
      "Hockey\n",
      "Tennis\n",
      "Athletics\n"
     ]
    }
   ],
   "source": [
    "sports = (\"Football\", \"Rugby\", \"Hockey\", \"Tennis\", \"Athletics\")\n",
    "\n",
    "# iterate the the tuple\n",
    "for sport in sports:\n",
    "    print(sport)\n"
   ]
  }
 ],
 "metadata": {
  "kernelspec": {
   "display_name": ".venv",
   "language": "python",
   "name": "python3"
  },
  "language_info": {
   "codemirror_mode": {
    "name": "ipython",
    "version": 3
   },
   "file_extension": ".py",
   "mimetype": "text/x-python",
   "name": "python",
   "nbconvert_exporter": "python",
   "pygments_lexer": "ipython3",
   "version": "3.11.10"
  }
 },
 "nbformat": 4,
 "nbformat_minor": 2
}
