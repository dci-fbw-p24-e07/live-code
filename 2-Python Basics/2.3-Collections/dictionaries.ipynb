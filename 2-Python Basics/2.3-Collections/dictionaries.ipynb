{
 "cells": [
  {
   "cell_type": "markdown",
   "metadata": {},
   "source": [
    "# Dictionaries in Python\n",
    "\n",
    "- Creating a dictionary\n",
    "- Accessing Dictionary Items \n",
    "- Adding items to a dictionary\n",
    "- Updating items in a dictionary\n",
    "- Iterate through a dictionary\n",
    "- Nested dictionaries\n",
    "\n",
    "## what is  a Dictionary?\n",
    "- Similar to lists and tuples\n",
    "- Each item has a key-value pair\n",
    "- declared using curly braces `{}`\n",
    "- When referring to an element in a dictionary it means the full `key: value` pair\n",
    "\n",
    "##  Create a dictionary\n",
    "\n",
    "- We can create an empty dictionary using the `dict()` constructor or curly braces `{}`\n",
    "- We add the `key: value` pairs inside the curly braces.\n",
    "- Each key-value pair is separated by a comma `,`\n",
    "- Dictionary keys must always be unique"
   ]
  },
  {
   "cell_type": "code",
   "execution_count": 3,
   "metadata": {},
   "outputs": [
    {
     "name": "stdout",
     "output_type": "stream",
     "text": [
      "{} <class 'dict'>\n",
      "{} <class 'dict'>\n",
      "{'Kenya': 'Ugali', 'Germany': 'Wurst', 'India': 'Rice'}\n"
     ]
    }
   ],
   "source": [
    "# empty dictionary with {}\n",
    "dict_1 = {}\n",
    "print(dict_1, type(dict_1))\n",
    "\n",
    "# empty dictionary with dict()\n",
    "dict_2 = dict()\n",
    "print(dict_2, type(dict_2))\n",
    "\n",
    "# Create a populated dictionary\n",
    "staple_foods = {\"Kenya\": \"Ugali\", \"Germany\": \"Wurst\", \"India\": \"Rice\"}\n",
    "print(staple_foods)"
   ]
  },
  {
   "cell_type": "markdown",
   "metadata": {},
   "source": [
    "> **NOTE: Dictionary keys must be immutable, such as tuples, strings, integers, etc.**"
   ]
  },
  {
   "cell_type": "code",
   "execution_count": 4,
   "metadata": {},
   "outputs": [
    {
     "name": "stdout",
     "output_type": "stream",
     "text": [
      "{1: 'one', 2: 'two', 3: 'three'}\n",
      "{(1, 2): 'one two'}\n",
      "{'USA': ['Chicago', 'California', 'New York']}\n"
     ]
    }
   ],
   "source": [
    "# integer as a key\n",
    "dict_3 = {1: \"one\", 2: \"two\", 3: \"three\"}\n",
    "print(dict_3)\n",
    "\n",
    "# tuple as key\n",
    "dict_4 = {(1, 2): \"one two\"}\n",
    "print(dict_4)\n",
    "\n",
    "# string as a key\n",
    "dict_5 = {\"USA\": [\"Chicago\", \"California\", \"New York\"]}\n",
    "print(dict_5)"
   ]
  },
  {
   "cell_type": "markdown",
   "metadata": {},
   "source": [
    "## Accessing Dictionary Items\n",
    "\n",
    "- Dictionaries do not use integer indexing\n",
    "- We can access the value of a dictionary item by placing the key inside square brackets `[]`\n"
   ]
  },
  {
   "cell_type": "code",
   "execution_count": 6,
   "metadata": {},
   "outputs": [
    {
     "name": "stdout",
     "output_type": "stream",
     "text": [
      "Wurst\n",
      "Ugali\n"
     ]
    }
   ],
   "source": [
    "staple_foods = {\"Kenya\": \"Ugali\", \"Germany\": \"Wurst\", \"India\": \"Rice\"}\n",
    "\n",
    "# Access the staple of Germany\n",
    "print(staple_foods[\"Germany\"])\n",
    "\n",
    "# Access the staple of Kenya\n",
    "print(staple_foods[\"Kenya\"])"
   ]
  },
  {
   "cell_type": "markdown",
   "metadata": {},
   "source": [
    "## Add Items to a dictionary\n",
    "\n",
    "- We can add items to a dictionary by assigning a value to a new key\n"
   ]
  },
  {
   "cell_type": "code",
   "execution_count": 13,
   "metadata": {},
   "outputs": [
    {
     "name": "stdout",
     "output_type": "stream",
     "text": [
      "{'Japan': 'Toyota', 'Switzerland': 'Volvo', 'England': 'Rolls Royce', 'Italy': 'Ferrari'}\n",
      "{'Japan': ['Honda', 'Toyota'], 'Switzerland': 'Volvo', 'England': 'Rolls Royce', 'Italy': 'Ferrari'}\n"
     ]
    }
   ],
   "source": [
    "cars_of_the_world = {\"Japan\": \"Toyota\", \"Switzerland\": \"Volvo\", \"England\": \"Rolls Royce\"}\n",
    "\n",
    "# add a new item\n",
    "cars_of_the_world[\"Italy\"] = \"Ferrari\"\n",
    "print(cars_of_the_world)\n",
    "\n",
    "#  change value of existing key\n",
    "cars_of_the_world[\"Japan\"] = [\"Honda\", \"Toyota\"]\n",
    "print(cars_of_the_world)"
   ]
  },
  {
   "cell_type": "markdown",
   "metadata": {},
   "source": [
    "## Iterate through a dictionary\n",
    "\n",
    "- A dictionary maintains its order\n",
    "- We can use a for loop to iterate through a dictionary\n"
   ]
  },
  {
   "cell_type": "code",
   "execution_count": 15,
   "metadata": {},
   "outputs": [
    {
     "name": "stdout",
     "output_type": "stream",
     "text": [
      "Japan\n",
      "Switzerland\n",
      "England\n",
      "Japan\n",
      "Switzerland\n",
      "England\n",
      "Toyota\n",
      "Volvo\n",
      "Rolls Royce\n",
      "Toyota\n",
      "Volvo\n",
      "Rolls Royce\n"
     ]
    }
   ],
   "source": [
    "cars_of_the_world = {\"Japan\": \"Toyota\", \"Switzerland\": \"Volvo\", \"England\": \"Rolls Royce\"}\n",
    "\n",
    "# printing the dictionary keys\n",
    "for country in cars_of_the_world:\n",
    "    print(country)\n",
    "    \n",
    "for country in cars_of_the_world.keys():\n",
    "    print(country)\n",
    "\n",
    "# Printing the values\n",
    "for country in cars_of_the_world:\n",
    "    print(cars_of_the_world[country])\n",
    "    \n",
    "for car in cars_of_the_world.values():\n",
    "    print(car)"
   ]
  },
  {
   "cell_type": "markdown",
   "metadata": {},
   "source": [
    "## Nested Dictionary\n",
    "\n",
    "- A nested dictionary is a dictionary inside a dictionary\n",
    "- A Collection of dictionaries into one single directory\n",
    "\n",
    "### Create a nested dictionary\n",
    "\n",
    "We created a nested dictionary by adding a dictionary as the value of our `key: value` pair"
   ]
  },
  {
   "cell_type": "code",
   "execution_count": 1,
   "metadata": {},
   "outputs": [
    {
     "name": "stdout",
     "output_type": "stream",
     "text": [
      "{90876: {'name': 'Jack Olson', 'position': 'Delivery Driver', 'phone_number': '+28965432456', 'email': 'jolson@mail.com'}, 90877: {'name': 'Jill Wonders', 'position': 'Operations Officer', 'phone_number': '+28965435664', 'email': 'jwonders@mail.com'}}\n"
     ]
    }
   ],
   "source": [
    "# Creating a nested dictionary\n",
    "employees = {\n",
    "    90876: {\"name\": \"Jack Olson\", \"position\": \"Delivery Driver\", \"phone_number\": \"+28965432456\", \"email\": \"jolson@mail.com\"},\n",
    "    90877: {\"name\": \"Jill Wonders\", \"position\": \"Operations Officer\", \"phone_number\": \"+28965435664\", \"email\": \"jwonders@mail.com\"}\n",
    "}\n",
    "print(employees)"
   ]
  },
  {
   "cell_type": "markdown",
   "metadata": {},
   "source": [
    "### Accessing nested dictionary elements\n",
    "- When accessing elements in a dictionary we use the indexing syntax []"
   ]
  },
  {
   "cell_type": "code",
   "execution_count": 4,
   "metadata": {},
   "outputs": [
    {
     "name": "stdout",
     "output_type": "stream",
     "text": [
      "+28965435664\n",
      "+873534778353\n"
     ]
    }
   ],
   "source": [
    "employees = {\n",
    "    90876: {\"name\": \"Jack Olson\", \"position\": \"Delivery Driver\", \"phone_number\": [\"+356434578334\", \"+873534778353\"], \"email\": \"jolson@mail.com\"},\n",
    "    90877: {\"name\": \"Jill Wonders\", \"position\": \"Operations Officer\", \"phone_number\": \"+28965435664\", \"email\": \"jwonders@mail.com\"}\n",
    "}\n",
    "\n",
    "# access the phone number of employee id 90877\n",
    "print(employees[90877][\"phone_number\"])\n",
    "\n",
    "# access the second phone number of employee 90876\n",
    "print(employees[90876][\"phone_number\"][1])"
   ]
  },
  {
   "cell_type": "markdown",
   "metadata": {},
   "source": [
    "### Adding a dictionary to another dictionary"
   ]
  },
  {
   "cell_type": "code",
   "execution_count": 5,
   "metadata": {},
   "outputs": [
    {
     "name": "stdout",
     "output_type": "stream",
     "text": [
      "{90876: {'name': 'Jack Olson', 'position': 'Delivery Driver', 'phone_number': ['+356434578334', '+873534778353'], 'email': 'jolson@mail.com'}, 90877: {'name': 'Jill Wonders', 'position': 'Operations Officer', 'phone_number': '+28965435664', 'email': 'jwonders@mail.com'}, 90878: {'name': 'Deadpool', 'position': 'Superhero', 'phone_number': '+2896765464', 'email': 'deadpool@mail.com'}}\n"
     ]
    }
   ],
   "source": [
    "employees = {\n",
    "    90876: {\"name\": \"Jack Olson\", \"position\": \"Delivery Driver\", \"phone_number\": [\"+356434578334\", \"+873534778353\"], \"email\": \"jolson@mail.com\"},\n",
    "    90877: {\"name\": \"Jill Wonders\", \"position\": \"Operations Officer\", \"phone_number\": \"+28965435664\", \"email\": \"jwonders@mail.com\"}\n",
    "}\n",
    "\n",
    "# Add dictionary to another dictionary\n",
    "employees[90878] = {\"name\": \"Deadpool\", \"position\": \"Superhero\", \"phone_number\": \"+2896765464\", \"email\": \"deadpool@mail.com\"}\n",
    "\n",
    "print(employees)"
   ]
  },
  {
   "cell_type": "markdown",
   "metadata": {},
   "source": [
    "#### Iterating through a nested dictionary"
   ]
  },
  {
   "cell_type": "code",
   "execution_count": 20,
   "metadata": {},
   "outputs": [
    {
     "name": "stdout",
     "output_type": "stream",
     "text": [
      "dict_items([(90876, {'name': 'Jack Olson', 'position': 'Delivery Driver', 'phone_number': ['+356434578334', '+873534778353'], 'email': 'jolson@mail.com'}), (90877, {'name': 'Jill Wonders', 'position': 'Operations Officer', 'phone_number': '+28965435664', 'email': 'jwonders@mail.com'})])\n",
      "\n",
      "Employee Id:  90876\n",
      "{'name': 'Jack Olson', 'position': 'Delivery Driver', 'phone_number': ['+356434578334', '+873534778353'], 'email': 'jolson@mail.com'}\n",
      "name: Jack Olson\n",
      "position: Delivery Driver\n",
      "phone_number: ['+356434578334', '+873534778353']\n",
      "email: jolson@mail.com\n",
      "\n",
      "Employee Id:  90877\n",
      "{'name': 'Jill Wonders', 'position': 'Operations Officer', 'phone_number': '+28965435664', 'email': 'jwonders@mail.com'}\n",
      "name: Jill Wonders\n",
      "position: Operations Officer\n",
      "phone_number: +28965435664\n",
      "email: jwonders@mail.com\n"
     ]
    }
   ],
   "source": [
    "employees = {\n",
    "    90876: {\"name\": \"Jack Olson\", \"position\": \"Delivery Driver\", \"phone_number\": [\"+356434578334\", \"+873534778353\"], \"email\": \"jolson@mail.com\"},\n",
    "    90877: {\"name\": \"Jill Wonders\", \"position\": \"Operations Officer\", \"phone_number\": \"+28965435664\", \"email\": \"jwonders@mail.com\"}\n",
    "}\n",
    "\n",
    "print(employees.items())\n",
    "\n",
    "for emp_id, emp_info in employees.items():\n",
    "    print(\"\\nEmployee Id: \", emp_id)\n",
    "    \n",
    "    print(emp_info)\n",
    "    for key in emp_info:\n",
    "        print(f\"{key}: {emp_info[key]}\")\n"
   ]
  },
  {
   "cell_type": "code",
   "execution_count": 36,
   "metadata": {},
   "outputs": [
    {
     "name": "stdout",
     "output_type": "stream",
     "text": [
      "['Career', 'Digital', 'Lecture', 'Institute', 'Exercise']\n"
     ]
    }
   ],
   "source": [
    "# find the number of unique chars in each string\n",
    "def unique_char_count(string):\n",
    "    char_set = set(string)\n",
    "    char_count = len(char_set)\n",
    "    return char_count\n",
    "\n",
    "\n",
    "# sort the strings in order of character count\n",
    "def unique_char_sort(strings):\n",
    "    strings.sort(key=unique_char_count)\n",
    "    return strings\n",
    "\n",
    "\n",
    "strings = ['Digital', 'Career', 'Institute', 'Lecture', 'Exercise']\n",
    "\n",
    "\n",
    "print(unique_char_sort(strings))"
   ]
  }
 ],
 "metadata": {
  "kernelspec": {
   "display_name": ".venv",
   "language": "python",
   "name": "python3"
  },
  "language_info": {
   "codemirror_mode": {
    "name": "ipython",
    "version": 3
   },
   "file_extension": ".py",
   "mimetype": "text/x-python",
   "name": "python",
   "nbconvert_exporter": "python",
   "pygments_lexer": "ipython3",
   "version": "3.11.10"
  }
 },
 "nbformat": 4,
 "nbformat_minor": 2
}
