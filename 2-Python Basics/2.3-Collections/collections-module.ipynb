{
 "cells": [
  {
   "cell_type": "markdown",
   "metadata": {},
   "source": [
    "# Collections Module in Python\n",
    "\n",
    "- What is the collections module?\n",
    "- What data structures does it offer?\n",
    "- How to use the collections module\n",
    "- Utilizing `namedtuple()`\n",
    "- Utilizing `defaultdict()`\n",
    "- utilizing `deque()`\n",
    "\n",
    "## What is the collections module?\n",
    "\n",
    "- A set of specialized container data types, designed to populate and manipulate data structures efficiently.\n",
    "- It is built-in and comes with a Python installation\n",
    "- It builds on top of the basic container data types that Python offers: lists, dictionaries, tuples and sets\n",
    "\n",
    "    **Data Types:**\n",
    "\n",
    "    | Data Type | Description |\n",
    "    |-----------|-------------|\n",
    "    | `deque` | a sequence-like collection that supports efficient addition and removal of items from either end of the sequence |\n",
    "    | `defaultdict` | A dictionary subclass for constructing default values for missing keys and automatically adding them to the dictionary |\n",
    "    | `namedtuple` | A factory function for creating subclasses of `tuple` that provides named fields that allow accessing items by name while keeping the ability to access items by index |\n",
    "    | `OrderedDict` | A dictionary subclass that keeps the key-value pairs ordered according to when the keys are inserted. |\n",
    "    | `Counter` | A dictionary subclass that supports convenient counting of **unique** items in a sequence or iterable. |\n",
    "    | `ChainMap` | A dictionary-like class  that allows treating a number of mappings as a single dictionary |\n",
    "\n",
    "    - Besides the specialized data types above, `collections` also provides base classes that facilitate the creation of custom lists, dictionaries and strings:\n",
    "\n",
    "    | Class | Description |\n",
    "    |-------|-------------|\n",
    "    | `UserDict` | A wrapper class around a dictionary object that facilitates subclassing `dict()` |\n",
    "    | `UserList` | A wrapper class around a list object that facilitates subclassing `list()` |\n",
    "    | `UserString` | A wrapper class around a string object that facilitates subclassing `string()` |\n",
    "\n",
    "\n",
    "\n",
    "> You can read more about collections from here: [https://docs.python.org/3/library/collections.html](https://docs.python.org/3/library/collections.html)\n",
    "\n",
    "\n",
    "## Utilizing the `collections` module\n",
    "\n",
    "-  you can include collections in your program by using `import collections`"
   ]
  },
  {
   "cell_type": "markdown",
   "metadata": {},
   "source": [
    "### `namedtuple`\n",
    "\n",
    "- Tuples are immutable, ordered sequence of elements.\n",
    "- Frequently used to represent column-like data, for example lines from a CSV\n",
    "\n",
    "For example:\n",
    "\n",
    "```python\n",
    "(\"Sammy\", \"Jones\", 123674)\n",
    "```\n",
    "\n",
    "- Namedtuple allows us to explicitly name each element in the tuple.\n",
    "\n",
    "`(\"first_name\", \"last_name\", \"student_number\")`"
   ]
  },
  {
   "cell_type": "code",
   "execution_count": 1,
   "metadata": {},
   "outputs": [
    {
     "name": "stdout",
     "output_type": "stream",
     "text": [
      "('Sammy', 'Jones', 1233443)\n",
      "Mary\n",
      "Mary\n"
     ]
    },
    {
     "data": {
      "text/plain": [
       "{'fname': 'Mary', 'lname': 'Fisher', 'sid': 1245678}"
      ]
     },
     "execution_count": 1,
     "metadata": {},
     "output_type": "execute_result"
    }
   ],
   "source": [
    "from collections import namedtuple\n",
    "\n",
    "reg_tuple = (\"Sammy\", \"Jones\", 1233443)\n",
    "print(reg_tuple)\n",
    "\n",
    "# Create a class to represent students\n",
    "Student = namedtuple(\"Student\", [\"fname\", \"lname\", \"sid\"])\n",
    "\n",
    "# Create a student object using the Student class\n",
    "mary = Student(\"Mary\", \"Fisher\", 1245678)\n",
    "\n",
    "# access first name\n",
    "print(mary[0])\n",
    "print(mary.fname)\n",
    "\n",
    "# Produce a dictionary from the tuple\n",
    "print(mary._asdict())"
   ]
  },
  {
   "cell_type": "markdown",
   "metadata": {},
   "source": [
    "### `defaultdict`\n",
    "\n",
    "- Returns a placeholder in place of a missing key\n",
    "- Avoids raising a `KeyError` whenever the dictionary with a non-existent key\n",
    "\n"
   ]
  },
  {
   "cell_type": "code",
   "execution_count": null,
   "metadata": {},
   "outputs": [],
   "source": [
    "from collections import defaultdict\n",
    "\n",
    "reg_dict = {\"three\": 3}\n",
    "\n",
    "# Initialise the dictionary with a default value\n",
    "new_dict = defaultdict(list)\n",
    "\n",
    "# Accessing a missing key\n",
    "print(reg_dict[\"missing\"])  # Produces KeyError\n",
    "print(new_dict[\"missing\"])  # Output: []"
   ]
  },
  {
   "cell_type": "markdown",
   "metadata": {},
   "source": [
    "### `deque`\n",
    "\n",
    "- deque allows us to add elements to the beginning(left) and end(right) of a list in an efficient manner\n",
    "- Inserting to the end of a list is the default, but inserting to the beginning can take a longer time(algorithmically)\n",
    "\n"
   ]
  }
 ],
 "metadata": {
  "kernelspec": {
   "display_name": ".venv",
   "language": "python",
   "name": "python3"
  },
  "language_info": {
   "codemirror_mode": {
    "name": "ipython",
    "version": 3
   },
   "file_extension": ".py",
   "mimetype": "text/x-python",
   "name": "python",
   "nbconvert_exporter": "python",
   "pygments_lexer": "ipython3",
   "version": "3.11.10"
  }
 },
 "nbformat": 4,
 "nbformat_minor": 2
}
