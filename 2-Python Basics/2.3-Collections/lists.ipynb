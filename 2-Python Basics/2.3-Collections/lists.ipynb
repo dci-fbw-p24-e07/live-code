{
 "cells": [
  {
   "cell_type": "markdown",
   "metadata": {},
   "source": [
    "# Python List\n",
    "\n",
    "- A list allows to store multiple items of different data types in a single variable\n",
    "- Lists are similar to arrays in other programming languages"
   ]
  },
  {
   "cell_type": "code",
   "execution_count": 4,
   "metadata": {},
   "outputs": [
    {
     "name": "stdout",
     "output_type": "stream",
     "text": [
      "[]\n",
      "[]\n",
      "['Jack', 45, 'Biology', 4.0]\n"
     ]
    }
   ],
   "source": [
    "# Create a List in Python\n",
    "my_list_1 = []\n",
    "my_list_2 = list()  # list constructor\n",
    "student = [\"Jack\", 45, 'Biology', 4.0]\n",
    "\n",
    "print(my_list_1)\n",
    "print(my_list_2)\n",
    "print(student)"
   ]
  },
  {
   "cell_type": "markdown",
   "metadata": {},
   "source": [
    "## Access List elements\n",
    "\n",
    "- Each element in a list is a associated with an index number.\n",
    "- starting from 0\n"
   ]
  },
  {
   "cell_type": "code",
   "execution_count": 6,
   "metadata": {},
   "outputs": [
    {
     "name": "stdout",
     "output_type": "stream",
     "text": [
      "Spanish\n",
      "Amharic\n"
     ]
    }
   ],
   "source": [
    "languages = [\"Spanish\", \"French\", \"Amharic\", \"Swahili\"]\n",
    "\n",
    "# access the first element\n",
    "print(languages[0])\n",
    "\n",
    "# access the third element\n",
    "print(languages[2])"
   ]
  },
  {
   "cell_type": "markdown",
   "metadata": {},
   "source": [
    "### Negative Indexing\n",
    "\n",
    "- A list can have negative indices.\n",
    "- The index of the last element is `-1`\n",
    "- Goes from right to left"
   ]
  },
  {
   "cell_type": "code",
   "execution_count": 7,
   "metadata": {},
   "outputs": [
    {
     "name": "stdout",
     "output_type": "stream",
     "text": [
      "Swahili\n",
      "French\n"
     ]
    }
   ],
   "source": [
    "languages = [\"Spanish\", \"French\", \"Amharic\", \"Swahili\"]\n",
    "\n",
    "# access the last item\n",
    "print(languages[-1])\n",
    "\n",
    "# access third last item\n",
    "print(languages[-3])"
   ]
  },
  {
   "cell_type": "markdown",
   "metadata": {},
   "source": [
    "### Slicing a list\n",
    "\n",
    "- We can use the `:` slicing operator to access a portion of a list\n",
    "- Can be used with positive and/or negative indexing "
   ]
  },
  {
   "cell_type": "code",
   "execution_count": 16,
   "metadata": {},
   "outputs": [
    {
     "name": "stdout",
     "output_type": "stream",
     "text": [
      "['Is', 'The', 'Best', 'Language']\n",
      "['The', 'Best', 'Language']\n",
      "['Python', 'The', 'Language', 'There']\n"
     ]
    },
    {
     "data": {
      "text/plain": [
       "[]"
      ]
     },
     "execution_count": 16,
     "metadata": {},
     "output_type": "execute_result"
    }
   ],
   "source": [
    "my_list = [\"Python\", \"Is\", \"The\", \"Best\", \"Language\", \"Out\", \"There\"]\n",
    "\n",
    "# get  a list with items from index 1 to index 4\n",
    "print(my_list[1:5])\n",
    "\n",
    "# get a list from index 2 to index -2\n",
    "print(my_list[2:-2])\n",
    "\n",
    "# get every second element from the whole list\n",
    "print(my_list[::2])"
   ]
  },
  {
   "cell_type": "markdown",
   "metadata": {},
   "source": [
    "## Adding Elements to a List\n",
    "\n",
    "- A list is mutable meaning we can change items of a list\n",
    "- We can use:\n",
    "    1. the `append(<new-element>)` method - adds elements to the end of as list\n",
    "    2. the `insert(<index>, <new-element>)` method - adds elements according tot specified index"
   ]
  },
  {
   "cell_type": "code",
   "execution_count": 20,
   "metadata": {},
   "outputs": [
    {
     "name": "stdout",
     "output_type": "stream",
     "text": [
      "['Apple', 'Orange', 'Mango', 'Pears', 'Blackberry']\n"
     ]
    }
   ],
   "source": [
    "# Using the append() method\n",
    "\n",
    "fruits = [\"Apple\", \"Orange\", \"Mango\", \"Pears\"]\n",
    "\n",
    "# add an element to the end of the list\n",
    "fruits.append(\"Blackberry\")\n",
    "\n",
    "print(fruits)"
   ]
  },
  {
   "cell_type": "code",
   "execution_count": 21,
   "metadata": {},
   "outputs": [
    {
     "name": "stdout",
     "output_type": "stream",
     "text": [
      "['Apple', 'Orange', 'Banana', 'Mango', 'Pears']\n"
     ]
    }
   ],
   "source": [
    "# Using the insert() method\n",
    "\n",
    "fruits = [\"Apple\", \"Orange\", \"Mango\", \"Pears\"]\n",
    "\n",
    "# add an element to index number 2\n",
    "fruits.insert(2, \"Banana\")\n",
    "\n",
    "print(fruits)"
   ]
  },
  {
   "cell_type": "markdown",
   "metadata": {},
   "source": [
    "### Changing List \n",
    "\n",
    "- We can use the `=` operator to assign a new value to an index"
   ]
  },
  {
   "cell_type": "code",
   "execution_count": 23,
   "metadata": {},
   "outputs": [
    {
     "name": "stdout",
     "output_type": "stream",
     "text": [
      "['Red', 'Green', 'White']\n"
     ]
    }
   ],
   "source": [
    "colors = [\"Red\", \"Yellow\", \"Blue\"]\n",
    "\n",
    "# change the 2nd item to Green\n",
    "colors[1] = \"Green\"\n",
    "\n",
    "# Change the last item to \"White\"\n",
    "colors[-1] = \"White\"\n",
    "\n",
    "print(colors)"
   ]
  },
  {
   "cell_type": "markdown",
   "metadata": {},
   "source": [
    "### Removing List Items\n",
    "\n",
    "- We can use the `remove(<element>)` method to delete a specified element from a list \n",
    "- If there are more than one item with the specified value, the remove() method removes the first occurrence"
   ]
  },
  {
   "cell_type": "code",
   "execution_count": 26,
   "metadata": {},
   "outputs": [
    {
     "name": "stdout",
     "output_type": "stream",
     "text": [
      "['Subaru', 'Skoda', 'Honda', 'Audi']\n"
     ]
    }
   ],
   "source": [
    "cars = [\"Subaru\", \"Audi\", \"Skoda\", \"Honda\", \"Audi\"]\n",
    "\n",
    "# Remove the 2nd element\n",
    "cars.remove(\"Audi\")\n",
    "\n",
    "print(cars)"
   ]
  },
  {
   "cell_type": "code",
   "execution_count": 28,
   "metadata": {},
   "outputs": [
    {
     "name": "stdout",
     "output_type": "stream",
     "text": [
      "['Subaru', 'Honda', 'Audi']\n"
     ]
    }
   ],
   "source": [
    "# using the `del` built-in\n",
    "cars = [\"Subaru\", \"Audi\", \"Skoda\", \"Honda\", \"Audi\"]\n",
    "\n",
    "# delete the item at index 3\n",
    "del cars[3]\n",
    "\n",
    "print(cars)"
   ]
  },
  {
   "cell_type": "markdown",
   "metadata": {},
   "source": [
    "#### List methods\n",
    "\n",
    "| Method | Description |\n",
    "|--------|-------------|\n",
    "| `append()` | Adds an item to the end of the list |\n",
    "| `clear()` | Removes all the elements from the list |\n",
    "| `copy()` | \tReturns a copy of the list |\n",
    "| `count()` | Returns the number of elements with the specified value |\n",
    "| `extend()` | Adds items of lists and other iterables to the end of the list |\n",
    "| `index()` | \tReturns the index of the first element with the specified value |\n",
    "| `insert()` | \tAdds an element at the specified position |\n",
    "| `pop()` | Removes the element at the specified position |\n",
    "| `remove()` | Removes the first item with the specified value |\n",
    "| `reverse()` | Reverses the order of the list |\n",
    "| `sort()` | Sorts the list |"
   ]
  },
  {
   "cell_type": "markdown",
   "metadata": {},
   "source": [
    "### Nested Lists\n",
    "\n",
    "- A  list with a list(s) inside it\n",
    "- Sometimes known as a matrix\n",
    "- We can use nested for loops to iterate over the nested list\n",
    "\n",
    "#### Creating a Nested List\n"
   ]
  },
  {
   "cell_type": "code",
   "execution_count": 1,
   "metadata": {},
   "outputs": [
    {
     "name": "stdout",
     "output_type": "stream",
     "text": [
      "97\n"
     ]
    }
   ],
   "source": [
    "numbers = [[10, 12], [43, 56], [78, 97, 54], [56]]\n",
    "\n",
    "# print the number 97\n",
    "print(numbers[2][1])"
   ]
  },
  {
   "cell_type": "markdown",
   "metadata": {},
   "source": [
    "#### Iterating through a Nested list\n",
    "\n"
   ]
  },
  {
   "cell_type": "code",
   "execution_count": null,
   "metadata": {},
   "outputs": [
    {
     "name": "stdout",
     "output_type": "stream",
     "text": [
      "56\n"
     ]
    },
    {
     "data": {
      "text/plain": [
       "[10, 12, 43, 56, 78, 97, 54, 56]"
      ]
     },
     "execution_count": 4,
     "metadata": {},
     "output_type": "execute_result"
    }
   ],
   "source": [
    "numbers = [\n",
    "    [10, 12], \n",
    "    [43, 56], \n",
    "    [78, 97, 54], \n",
    "    [56]]\n",
    "\n",
    "# Flatten the list\n",
    "flat_list = []\n",
    "\n",
    "# Capturing the inner lists\n",
    "for sublist in numbers:\n",
    "    # iterate through the inner lists\n",
    "    for num in sublist:\n",
    "        # Add each element from the inner list to a new list\n",
    "        flat_list.append(num)\n",
    "\n",
    "flat_list"
   ]
  }
 ],
 "metadata": {
  "kernelspec": {
   "display_name": ".venv",
   "language": "python",
   "name": "python3"
  },
  "language_info": {
   "codemirror_mode": {
    "name": "ipython",
    "version": 3
   },
   "file_extension": ".py",
   "mimetype": "text/x-python",
   "name": "python",
   "nbconvert_exporter": "python",
   "pygments_lexer": "ipython3",
   "version": "3.11.10"
  }
 },
 "nbformat": 4,
 "nbformat_minor": 2
}
