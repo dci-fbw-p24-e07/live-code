{
 "cells": [
  {
   "cell_type": "markdown",
   "metadata": {},
   "source": [
    "# Sets\n",
    "- Creating a set\n",
    "- Adding and updating a set\n",
    "- Removing elements\n",
    "- Set operations\n",
    "- Set methods\n",
    "\n",
    "## What is a set?\n",
    "\n",
    "- a set is a collection of **unique** data\n",
    "- elements within a set cannot be duplicated.\n",
    "- A set is unordered - it does not maintain the order in which the elements have been created/added.\n",
    "\n",
    "## Creating a set in Python\n",
    "\n",
    "- We place all the elements inside curly braces `{}`\n",
    "- We can also use the `set()` constructor to create a set\n",
    "- A set can have any number of items and they may be different types (integers, strings, floats, tuples, etc)\n",
    "- Cannot have mutable elements like lists, sets and dictionaries."
   ]
  },
  {
   "cell_type": "code",
   "execution_count": 5,
   "metadata": {},
   "outputs": [
    {
     "name": "stdout",
     "output_type": "stream",
     "text": [
      "set()\n",
      "{104, 17.5, ('rugby', 'hockey'), 'Python'}\n"
     ]
    }
   ],
   "source": [
    "# Create a set using the `set()` constructor\n",
    "empty_set = set()\n",
    "print(empty_set)\n",
    "\n",
    "# Create a set with multiple data types\n",
    "mixed_set = {\"Python\", 104, 17.5, (\"rugby\", \"hockey\")}\n",
    "print(mixed_set)"
   ]
  },
  {
   "cell_type": "markdown",
   "metadata": {},
   "source": [
    "## Duplicate items in a set\n",
    "\n",
    "- A set requires unique data\n",
    "- When a set is created with duplicate elements it retains only one of those elements and deletes the rest"
   ]
  },
  {
   "cell_type": "code",
   "execution_count": 6,
   "metadata": {},
   "outputs": [
    {
     "name": "stdout",
     "output_type": "stream",
     "text": [
      "{2, 4, 6, 7, 8, 9, 10}\n"
     ]
    }
   ],
   "source": [
    "numbers = {2, 4, 6, 7, 6, 4, 8, 9, 10 ,8}\n",
    "print(numbers)"
   ]
  },
  {
   "cell_type": "markdown",
   "metadata": {},
   "source": [
    "## Adding and Updating Set Items \n",
    "\n",
    "- Sets are mutable\n",
    "- Because they are unordered, indexing has no meaning.\n",
    "- We cannot access or change an element of a set using indexing or slicing.\n",
    "- It does provide different methods to manipulate set items\n",
    "\n",
    "### Add items to a set\n",
    "\n",
    "- Python provides an `set.add(<new-item>)` method to add an item to a set"
   ]
  },
  {
   "cell_type": "code",
   "execution_count": 7,
   "metadata": {},
   "outputs": [
    {
     "name": "stdout",
     "output_type": "stream",
     "text": [
      "Initial Set:  {2, 4, 6, 7, 8, 9, 10}\n",
      "Updated set:  {2, 4, 6, 7, 8, 9, 10, 45}\n"
     ]
    }
   ],
   "source": [
    "numbers = {2, 4, 6, 7, 6, 4, 8, 9, 10 ,8}\n",
    "\n",
    "print(\"Initial Set: \", numbers)\n",
    "\n",
    "# add a new element\n",
    "numbers.add(45)\n",
    "\n",
    "print(\"Updated set: \", numbers)"
   ]
  },
  {
   "cell_type": "markdown",
   "metadata": {},
   "source": [
    "### Update elements in a set\n",
    "\n",
    "- Used to update the set with items from other collections(list, tuples, sets, dictionaries)\n",
    "- It will extract the items from the given iterable and add them to the set."
   ]
  },
  {
   "cell_type": "code",
   "execution_count": 8,
   "metadata": {},
   "outputs": [
    {
     "name": "stdout",
     "output_type": "stream",
     "text": [
      "{'Google', 'Amazon', 'Refinery', 'Walmart', 'Nvidia', 'Adidas', 'Intel', 'IBM'}\n"
     ]
    }
   ],
   "source": [
    "companies = {\"Refinery\", \"Adidas\", \"Walmart\", \"Google\"}\n",
    "\n",
    "tech_companies = [\"Amazon\", \"Google\", \"Nvidia\", \"Intel\", \"IBM\"]\n",
    "\n",
    "# use the update() method to add list elements to the set\n",
    "companies.update(tech_companies)\n",
    "\n",
    "print(companies)"
   ]
  },
  {
   "cell_type": "markdown",
   "metadata": {},
   "source": [
    "### Removing elements from a set\n",
    "\n",
    "- Sets provide a `discard(<element>)` method to remove a specified element from a set.\n",
    "- It searches the set for a matching element and removes it   from the set."
   ]
  },
  {
   "cell_type": "code",
   "execution_count": 9,
   "metadata": {},
   "outputs": [
    {
     "name": "stdout",
     "output_type": "stream",
     "text": [
      "{'Refinery', 'Google', 'Adidas'}\n"
     ]
    }
   ],
   "source": [
    "companies = {\"Refinery\", \"Adidas\", \"Walmart\", \"Google\"}\n",
    "\n",
    "# remove 'Walmart' from the set\n",
    "companies.discard(\"Walmart\")\n",
    "\n",
    "print(companies)"
   ]
  },
  {
   "cell_type": "markdown",
   "metadata": {},
   "source": [
    "### Iterating over a set\n",
    "\n",
    "- We can use a for loop to iterate over a set"
   ]
  },
  {
   "cell_type": "code",
   "execution_count": 10,
   "metadata": {},
   "outputs": [
    {
     "name": "stdout",
     "output_type": "stream",
     "text": [
      "Grapes\n",
      "Peaches\n",
      "Oranges\n",
      "Strawberries\n"
     ]
    }
   ],
   "source": [
    "fruits = {\"Grapes\", \"Peaches\", \"Oranges\", \"Strawberries\"}\n",
    "\n",
    "# for loop to access each of the fruits\n",
    "for fruit in fruits:\n",
    "    print(fruit)"
   ]
  },
  {
   "cell_type": "markdown",
   "metadata": {},
   "source": [
    "## Set Operations\n",
    "\n",
    "- Python sets provides built-in methods to perform mathematical set operations like:\n",
    "    1. union\n",
    "    2. intersection\n",
    "    3. subtraction \n",
    "    4. symmetrical difference\n",
    "\n",
    "\n",
    "### Union of 2 sets\n",
    "\n",
    "- The union of 2 sets, A and B, includes all elements from sets A and B.\n",
    "\n",
    "![Union of Two Sets](https://www.programiz.com/sites/tutorial2program/files/python-union.png)\n",
    "\n",
    "- We can use the `|` operator or the `union()` method to perform the set union. "
   ]
  },
  {
   "cell_type": "code",
   "execution_count": 15,
   "metadata": {},
   "outputs": [
    {
     "name": "stdout",
     "output_type": "stream",
     "text": [
      "Union using |:  {1, 2, 3, 4, 5, 6, 9, 12, 15, 18, 21}\n",
      "Union using union():  {1, 2, 3, 4, 5, 6, 35, 9, 11, 12, 15, 17, 18, 21}\n",
      "Union using union():  {1, 2, 3, 4, 5, 6, 9, 12, 15, 18, 21}\n"
     ]
    }
   ],
   "source": [
    "# first set\n",
    "a = {1, 2, 3, 4, 5, 6}\n",
    "\n",
    "# second set\n",
    "b = { 3, 6, 9, 12, 15, 18, 21}\n",
    "\n",
    "c = {1, 11, 17, 35}\n",
    "\n",
    "# perform a union using the `|`\n",
    "print(\"Union using |: \", a | b)\n",
    "\n",
    "# perform a union using the `union()` method\n",
    "print(\"Union using union(): \", a.union(b, c))\n",
    "print(\"Union using union(): \", b.union(a)) "
   ]
  },
  {
   "cell_type": "markdown",
   "metadata": {},
   "source": [
    "## Set Intersection\n",
    "\n",
    "- The intersection of two sets A and B include the common elements between set A and B\n",
    "\n",
    "![Set Intersection](https://www.programiz.com/sites/tutorial2program/files/python-intersection.png)\n",
    "\n",
    "- We use the `&` operator or the `intersection()` method to perform the set intersection."
   ]
  },
  {
   "cell_type": "code",
   "execution_count": 18,
   "metadata": {},
   "outputs": [
    {
     "name": "stdout",
     "output_type": "stream",
     "text": [
      "Intersection using &:  {3, 6}\n",
      "Intersection using &:  {6}\n",
      "Intersection using intersection():  {3, 6}\n",
      "Intersection using intersection():  {6}\n"
     ]
    }
   ],
   "source": [
    "# first set\n",
    "a = {1, 2, 3, 4, 5, 6}\n",
    "\n",
    "# second set\n",
    "b = { 3, 6, 9, 12, 15, 18, 21}\n",
    "\n",
    "# third set\n",
    "c = {1, 6, 7, 11, 17, 35}\n",
    "\n",
    "# perform intersection using &\n",
    "print(\"Intersection using &: \", a & b)\n",
    "print(\"Intersection using &: \", a & b & c)\n",
    "\n",
    "# perform intersection using intersection()\n",
    "print(\"Intersection using intersection(): \", a.intersection(b))\n",
    "print(\"Intersection using intersection(): \", a.intersection(b, c))"
   ]
  },
  {
   "cell_type": "markdown",
   "metadata": {},
   "source": [
    "## Subtraction/Difference between two sets\n",
    "\n",
    "- The difference between two sets A and B includes elements of set A that are not present in set B.\n",
    "\n",
    "![Subtraction](https://www.programiz.com/sites/tutorial2program/files/python-difference.png)\n",
    "\n",
    "- We use the `-` operator or the `difference()` method to perform the difference between two sets.\n"
   ]
  },
  {
   "cell_type": "code",
   "execution_count": 22,
   "metadata": {},
   "outputs": [
    {
     "name": "stdout",
     "output_type": "stream",
     "text": [
      "Difference using -:  {9, 12, 15, 18, 21}\n",
      "Difference using -:  {17, 11, 35, 7}\n",
      "Difference using difference():  {1, 35, 7, 11, 17}\n",
      "Difference using difference():  {9, 12, 15, 18, 21}\n"
     ]
    }
   ],
   "source": [
    "# first set\n",
    "a = {1, 2, 3, 4, 5, 6}\n",
    "\n",
    "# second set\n",
    "b = {3, 6, 9, 12, 15, 18, 21}\n",
    "\n",
    "# third set\n",
    "c = {1, 6, 7, 11, 17, 35}\n",
    "\n",
    "# perform difference using -\n",
    "print(\"Difference using -: \", b - a)\n",
    "print(\"Difference using -: \", c - a - b)\n",
    "\n",
    "# perform difference using difference()\n",
    "print(\"Difference using difference(): \", c.difference(b))\n",
    "print(\"Difference using difference(): \", b.difference(c, a))"
   ]
  },
  {
   "cell_type": "markdown",
   "metadata": {},
   "source": [
    "## Symmetric Difference\n",
    "\n",
    "- The symmetric difference between two sets A and B includes all elements of A and B without the common elements\n",
    "\n",
    "![Symmetric difference](https://www.programiz.com/sites/tutorial2program/files/python-symmetric-difference.png)\n",
    "\n",
    "- We use the `^` operator or the `symmetric_difference()` method to perform symmetric difference between 2 sets.\n"
   ]
  },
  {
   "cell_type": "code",
   "execution_count": 26,
   "metadata": {},
   "outputs": [
    {
     "name": "stdout",
     "output_type": "stream",
     "text": [
      "Using ^:  {1, 2, 4, 5, 9, 12, 15, 18, 21}\n",
      "Using ^:  {2, 4, 5, 6, 7, 9, 11, 12, 15, 17, 18, 21, 35}\n",
      "Using symmetric_difference():  {1, 2, 4, 5, 9, 12, 15, 18, 21}\n",
      "Using symmetric_difference():  {2, 3, 4, 5, 7, 11, 17, 35}\n"
     ]
    }
   ],
   "source": [
    "# first set\n",
    "a = {1, 2, 3, 4, 5, 6}\n",
    "\n",
    "# second set\n",
    "b = {3, 6, 9, 12, 15, 18, 21}\n",
    "\n",
    "# third set\n",
    "c = {1, 6, 7, 11, 17, 35}\n",
    "\n",
    "# using ^\n",
    "print(\"Using ^: \", a ^ b)\n",
    "print(\"Using ^: \", a ^ b ^ c) # Evaluated as: (a ^ b) ^ c\n",
    "\n",
    "# Using symmetric_difference()\n",
    "print(\"Using symmetric_difference(): \", a.symmetric_difference(b))\n",
    "print(\"Using symmetric_difference(): \", a.symmetric_difference(c))"
   ]
  }
 ],
 "metadata": {
  "kernelspec": {
   "display_name": ".venv",
   "language": "python",
   "name": "python3"
  },
  "language_info": {
   "codemirror_mode": {
    "name": "ipython",
    "version": 3
   },
   "file_extension": ".py",
   "mimetype": "text/x-python",
   "name": "python",
   "nbconvert_exporter": "python",
   "pygments_lexer": "ipython3",
   "version": "3.11.10"
  }
 },
 "nbformat": 4,
 "nbformat_minor": 2
}
