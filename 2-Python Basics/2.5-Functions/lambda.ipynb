{
 "cells": [
  {
   "cell_type": "markdown",
   "metadata": {},
   "source": [
    "# Lambda functions\n",
    "\n",
    "- What is a Lambda function?\n",
    "- How Lambda functions work\n",
    "- Creating a lambda function\n",
    "- Best practices for using Lambda functions\n",
    "\n",
    "## What is a Lambda Function?\n",
    "\n",
    "- They are anonymous expressions, meaning they have no name unless explicitly assigned to a variable\n",
    "- Can be defined in a single line without the need for a return statement\n",
    "- A powerful concise tool for creating small anonymous functions on the fly.\n",
    "- They are perfect for simplifying short term tasks, like mapping, filtering or sorting.\n",
    "- They reduce clutter that is created when we define temporary or throwaway logic/variables.\n",
    "\n",
    "    **Syntax:**\n",
    "    ```python\n",
    "    lambda <arguments>: <expression>\n",
    "    ```\n",
    "\n",
    "    - arguments - any value passed to the lambda function.\n",
    "    - expression - expression is executed and returned\n",
    "\n",
    "- Lambda functions are sometimes known as:\n",
    "    1. Anonymous functions\n",
    "    2. Lambda functions\n",
    "    3. Lambda expressions\n",
    "    4. Lambda abstractions\n",
    "    5. Lambda form\n",
    "    6. Function literals\n",
    "\n",
    "## How Lambda functions work\n",
    "\n",
    "- In Python we create it using the `lambda` keyword\n",
    "- In comparison with a regular function\n",
    "- A lambda function still needs to be called in order to execute, hence the need to assign to a variable. "
   ]
  },
  {
   "cell_type": "code",
   "execution_count": null,
   "metadata": {},
   "outputs": [
    {
     "name": "stdout",
     "output_type": "stream",
     "text": [
      "Hello world\n"
     ]
    }
   ],
   "source": [
    "def add_numbers(x, y):\n",
    "    return x + y\n",
    "\n",
    "add_numbers(5, 7)\n",
    "\n",
    "# Lambda function with arguments\n",
    "adding = lambda x, y: x + y\n",
    "adding(4, 5)\n",
    "\n",
    "# Immediately Invoked Function Expression\n",
    "(lambda x, y: x - y)(5, 3)\n",
    "\n",
    "# Lambda function without arguments\n",
    "greet = lambda : print(\"Hello world\")\n",
    "greet()"
   ]
  },
  {
   "cell_type": "markdown",
   "metadata": {},
   "source": [
    "### Common use cases for lambda\n",
    "\n",
    "- Lambda functions are ideal for creating short, straightforward functions without extra complexity.\n"
   ]
  },
  {
   "cell_type": "code",
   "execution_count": null,
   "metadata": {},
   "outputs": [
    {
     "name": "stdout",
     "output_type": "stream",
     "text": [
      "[2, 4, 6, 8, 10]\n",
      "['Hello', 'World', 'Python', '17.5']\n"
     ]
    }
   ],
   "source": [
    "# Filter a list of numbers to get only even numbers\n",
    "numbers = [1, 2, 3, 4, 5, 6, 7, 8, 9, 10]\n",
    "is_even = lambda x: x % 2 == 0\n",
    "evens = filter(is_even, numbers)\n",
    "print(list(evens))\n",
    "\n",
    "# Filter a list of elements to get only strings\n",
    "list_1 = [\"Hello\", 15, 45, \"World\", \"Python\", \"17.5\", True]\n",
    "is_string = lambda x : isinstance(x, str)\n",
    "is_string2 = lambda x : type(x) == str\n",
    "strings_only = filter(is_string2, list_1)\n",
    "print(list(strings_only))"
   ]
  },
  {
   "cell_type": "markdown",
   "metadata": {},
   "source": [
    "### Lambda function best practices\n",
    "\n",
    "#### When to use Lambda functions:\n",
    "\n",
    "1. **Short, simple, logic:** Ideal for concise operations that don't require a full function definition.\n",
    "2. **Higher-order functions:** Works effectively as arguments to higher-order functions like `map()` , `filter()` or `sorted()`\n",
    "3. **Temporary/Throwaway logic:** Useful when a funbction is needed only once and defining it with `def` would cause unnecessary clutter to the code.\n",
    "4. **Improved readability:** Suitable for simple tasks where using a lambda function keeps the code compact and easy to follow.\n",
    "\n",
    "#### When to avoid lambda functions:\n",
    "\n",
    "1. Complex or multiline logic: Lambdas are limited to a single expression and can quickly become unreadable for more intricate operations.\n",
    "2. Reusable or named functions: If the function needs to be reused or benefits from a descriptive name a standard function would be more appropriate.\n",
    "3. Debugging or documentation: Lambda functions lack the ability to include docstrings and can be harder to debug compared to named functions\n",
    "\n",
    "##### Tips to follow  best practice:\n",
    "\n",
    "1. **Use descriptive names** for clarity\n",
    "2. **Keep it simple:** Lambdas should ideally fit on one line and represent straightforward logic\n",
    "3. **Limit nesting:** Avoid using lambda functions within another lambda function or complex data structures unless necessary\n",
    "4. **Prefer readability over conciseness:** if using lambda sacrifices readability. It's better to define a named function."
   ]
  }
 ],
 "metadata": {
  "kernelspec": {
   "display_name": ".venv",
   "language": "python",
   "name": "python3"
  },
  "language_info": {
   "codemirror_mode": {
    "name": "ipython",
    "version": 3
   },
   "file_extension": ".py",
   "mimetype": "text/x-python",
   "name": "python",
   "nbconvert_exporter": "python",
   "pygments_lexer": "ipython3",
   "version": "3.11.10"
  }
 },
 "nbformat": 4,
 "nbformat_minor": 2
}
