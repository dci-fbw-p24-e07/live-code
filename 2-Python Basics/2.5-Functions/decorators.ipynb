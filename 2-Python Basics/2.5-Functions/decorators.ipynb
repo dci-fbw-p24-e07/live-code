{
 "cells": [
  {
   "cell_type": "markdown",
   "metadata": {},
   "source": [
    "## 18.02.25 - Decorators\n",
    "\n",
    "- What is a decorator?\n",
    "- Nested Functions\n",
    "- Passing functions as an argument\n",
    "- Usage of a decorator\n",
    "- Creating a decorator\n",
    "- Use cases for decorators\n",
    "\n",
    "### What is a decorator?\n",
    "\n",
    "- A decorator is a design pattern that allows a user to add new functionality to an existing object. \n",
    "- Decorators are typically applied to functions, and they enhance/modify the behaviour of functions.\n",
    "- Functions in Python support operations such as being passed as an argument, returned from a function, modified and being assigned to a variable.\n",
    "\n",
    "#### Assigning functions to variables\n",
    "\n",
    "- Functions can be assigned to variables and we can use this variable name to call the function"
   ]
  },
  {
   "cell_type": "code",
   "execution_count": null,
   "metadata": {},
   "outputs": [
    {
     "data": {
      "text/plain": [
       "6"
      ]
     },
     "execution_count": 3,
     "metadata": {},
     "output_type": "execute_result"
    }
   ],
   "source": [
    "def plus_one(number):\n",
    "    return number + 1\n",
    "\n",
    "# Just assign the function directly\n",
    "add_one = plus_one\n",
    "add_one(10)\n",
    "\n",
    "# Allows to assign a function call\n",
    "add_five = plus_one(5)  # Assigning the return value to the variable\n",
    "add_five"
   ]
  },
  {
   "cell_type": "markdown",
   "metadata": {},
   "source": [
    "#### Defining Functions inside other functions - Nested Functions\n",
    "\n",
    "- Python allows us to create nested functions and call functions within another function\n"
   ]
  },
  {
   "cell_type": "code",
   "execution_count": 4,
   "metadata": {},
   "outputs": [
    {
     "data": {
      "text/plain": [
       "5"
      ]
     },
     "execution_count": 4,
     "metadata": {},
     "output_type": "execute_result"
    }
   ],
   "source": [
    "def plus_one(number_1):\n",
    "    def add_one(number_2):\n",
    "        return number_2 + 1\n",
    "    \n",
    "    result = add_one(number_1)\n",
    "    return result\n",
    "\n",
    "plus_one(4)"
   ]
  },
  {
   "cell_type": "markdown",
   "metadata": {},
   "source": [
    "#### Passing Functions as arguments\n",
    "\n",
    "- Functions can also be passed as parameters/arguments to other functions\n",
    "- Allowing the evaluation of the passed function inside another function\n",
    "- When giving a function as an argument **we do not add the parentheses**"
   ]
  },
  {
   "cell_type": "code",
   "execution_count": null,
   "metadata": {},
   "outputs": [
    {
     "name": "stdout",
     "output_type": "stream",
     "text": [
      "11\n",
      "3\n"
     ]
    }
   ],
   "source": [
    "def plus_one(number):\n",
    "    return number + 1\n",
    "\n",
    "def func_two(func):\n",
    "    number_to_add = 7\n",
    "    return func(number_to_add)\n",
    "\n",
    "func_two(plus_one)\n",
    "\n",
    "def add(a, b):\n",
    "    return a + b\n",
    "\n",
    "def subtract(a, b):\n",
    "    return a - b\n",
    "\n",
    "def calculate(func, x, y):\n",
    "    return func(x, y)\n",
    "\n",
    "print(calculate(add, 5, 6))\n",
    "print(calculate(subtract, 10, 7))"
   ]
  },
  {
   "cell_type": "markdown",
   "metadata": {},
   "source": [
    "### Creating a Decorator\n",
    "\n",
    "- To create a decorate you define a a wrapper inside an enclosed function. Very similar to a nested function\n",
    "\n",
    "**Syntax:**\n",
    "```python\n",
    "def <decorator-name>(function):\n",
    "    def <wrapper-name>():\n",
    "        # Define code to be executed before the decorated function (optional)\n",
    "        # Call the decorated function\n",
    "        # Define code to be executed after the decorated function (optional)\n",
    "\n",
    "    return <wrapper-name>\n",
    "```\n"
   ]
  },
  {
   "cell_type": "code",
   "execution_count": 23,
   "metadata": {},
   "outputs": [
    {
     "name": "stdout",
     "output_type": "stream",
     "text": [
      "I got decorated\n",
      "I got executed\n"
     ]
    },
    {
     "data": {
      "text/plain": [
       "'HELLO WORLD'"
      ]
     },
     "execution_count": 23,
     "metadata": {},
     "output_type": "execute_result"
    }
   ],
   "source": [
    "# Decorator that converts a sentence to uppercase\n",
    "def uppercase_decorator(function):\n",
    "    def wrapper():\n",
    "        print(\"I got executed\")\n",
    "        make_uppercase = function().upper()\n",
    "        return make_uppercase\n",
    "    \n",
    "    return wrapper\n",
    "\n",
    "@uppercase_decorator\n",
    "def say_hi():\n",
    "    return \"Hello there!\"\n",
    "\n",
    "# say_hi()\n",
    "\n",
    "def make_pretty(function):\n",
    "    def inner():\n",
    "        print(\"I got decorated\")\n",
    "        return function()\n",
    "    return inner\n",
    "\n",
    "\n",
    "@make_pretty\n",
    "@uppercase_decorator\n",
    "def greet():\n",
    "    return \"Hello world\"\n",
    "\n",
    "greet()"
   ]
  },
  {
   "cell_type": "code",
   "execution_count": null,
   "metadata": {},
   "outputs": [
    {
     "name": "stdout",
     "output_type": "stream",
     "text": [
      "0.4\n",
      "Hey we can't divide by zero\n",
      "None\n"
     ]
    }
   ],
   "source": [
    "# Using a decorator to validate function input\n",
    "def smart_divide(function):\n",
    "    def wrapper(a, b):\n",
    "        if b == 0:\n",
    "            print(\"Hey we can't divide by zero\")\n",
    "        else:\n",
    "            return function(a, b)\n",
    "    return wrapper\n",
    "\n",
    "@smart_divide\n",
    "def divide(a, b):\n",
    "    return a / b\n",
    "\n",
    "print(divide(2, 5))\n",
    "print(divide(4, 0))"
   ]
  },
  {
   "cell_type": "markdown",
   "metadata": {},
   "source": [
    "### Use cases for decorators\n",
    "\n",
    "1. Logging: Track function calls, arguments and return values for debugging or auditing\n",
    "2. Authentication: Enforce access control in web applications like Flask or Django\n",
    "3. Execution timing: Measure and optimize function execution time for performance critical  tasks\n",
    "4. Retry mechanism: Automatically retry failed function calls, useful in network operations.\n",
    "5. Input validation: Validate function arguments before execution. "
   ]
  }
 ],
 "metadata": {
  "kernelspec": {
   "display_name": ".venv",
   "language": "python",
   "name": "python3"
  },
  "language_info": {
   "codemirror_mode": {
    "name": "ipython",
    "version": 3
   },
   "file_extension": ".py",
   "mimetype": "text/x-python",
   "name": "python",
   "nbconvert_exporter": "python",
   "pygments_lexer": "ipython3",
   "version": "3.11.10"
  }
 },
 "nbformat": 4,
 "nbformat_minor": 2
}
