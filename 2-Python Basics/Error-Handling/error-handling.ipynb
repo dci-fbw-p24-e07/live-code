{
 "cells": [
  {
   "cell_type": "markdown",
   "metadata": {},
   "source": [
    "# Error and Error handling in Python\n",
    "\n",
    "- What is an error?\n",
    "- Python stacktrace and how to interpret it\n",
    "- Common errors and exceptions classes\n",
    "- The Basics in the Error handling:\n",
    "    1. Look Before You Leap - LBYL\n",
    "    2. Easier to Ask Forgiveness the Permission - EAFP\n",
    "- `try ....except` block \n",
    "\n",
    "## What is an error?\n",
    "\n",
    "- Is an issue that prevents a program from completing its task or running completely.\n",
    "- Exceptions are conditions that interrupt the normal flow of the program.\n",
    "- both errors and exceptions are type of runtime error, meaning they occur during the execution of a program. \n",
    "- An error is a critical issue that a normal application should not catch e.g `IndentationError`\n",
    "- An exception is a condition that a program should catch e.g `IndexError`, `DoesNotExist`"
   ]
  },
  {
   "cell_type": "code",
   "execution_count": 3,
   "metadata": {},
   "outputs": [
    {
     "data": {
      "text/plain": [
       "'Hello, Michael'"
      ]
     },
     "execution_count": 3,
     "metadata": {},
     "output_type": "execute_result"
    }
   ],
   "source": [
    "def greeting(name):\n",
    "    return \"Hello, \" + name\n",
    "\n",
    "greeting(\"Michael\")"
   ]
  }
 ],
 "metadata": {
  "kernelspec": {
   "display_name": ".venv",
   "language": "python",
   "name": "python3"
  },
  "language_info": {
   "codemirror_mode": {
    "name": "ipython",
    "version": 3
   },
   "file_extension": ".py",
   "mimetype": "text/x-python",
   "name": "python",
   "nbconvert_exporter": "python",
   "pygments_lexer": "ipython3",
   "version": "3.11.10"
  }
 },
 "nbformat": 4,
 "nbformat_minor": 2
}
