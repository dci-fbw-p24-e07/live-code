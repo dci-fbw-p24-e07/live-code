{
 "cells": [
  {
   "cell_type": "markdown",
   "metadata": {},
   "source": [
    "# Exceptions\n",
    "\n",
    "- What is an exception?\n",
    "- Built-in exceptions\n",
    "- How to raise exceptions?\n",
    "- Catching raised exceptions\n",
    "- Custom built exceptions\n",
    "- Best practices when raising exceptions\n",
    "\n",
    "## What is an exception?\n",
    "\n",
    "- An event ,which occurs during the execution of a program that disrupts the normal/expected flow of the algorithm.\n",
    "- This can either due syntax or semantics\n",
    "\n",
    "\n",
    "### Built-in exceptions\n",
    "\n",
    "- Python has more than sixty built-in exceptions\n",
    "- Here are some of them:\n",
    "\n",
    "| Exception Class | Description |\n",
    "|-----------------|-------------|\n",
    "| `ImportError` | Appears when an import statement has trouble loading a module |\n",
    "| `ModuleNotFoundError` | Happens when an `import` statement can't locate a given module |\n",
    "| `NameError` | Appears when a global or local variable is not defined |\n",
    "| `AttributeError` | When an attribute reference or assignment fails |\n",
    "| `IndexError` | Occurs when an indexing operation or sequence uses an index that is out of range |\n",
    "| `KeyError` | Occurs when a key is missing in a dictionary |\n",
    "| `ZeroDivisionError` | Appears when the second operand in a division (`/` or `//`) or modulo (`%`) operation is 0 |\n",
    "| `TypeError` | Happens when an operation or function operates on an object of an inappropriate type |\n",
    "| `ValueError` | Occurs when operation of function receives the right type of argument but the wrong value |\n",
    "\n",
    "- You can find the full list of exceptions at: [https://docs.python.org/3/library/exceptions.html](https://docs.python.org/3/library/exceptions.html)\n",
    "\n",
    "## Raising exceptions in Python\n",
    "\n",
    "- We use the `raise` statement to raise exceptions in our code.\n",
    "- Raising exceptions allows you to indicate that an error has occurred and to control the flow of the program by handling the exceptions appropriately.\n",
    "- Raising exceptions refers to explicitly triggering an error condition in your program\n",
    "\n",
    "**Syntax:**\n",
    "\n",
    "```python\n",
    "raise <Excpetion-Class>(<Error Message>)\n",
    "\n",
    "# E.g\n",
    "raise ValueError(\"You entered the wrong value\")\n",
    "```\n",
    "\n",
    "### Raising built-in Exceptions"
   ]
  },
  {
   "cell_type": "code",
   "execution_count": 5,
   "metadata": {},
   "outputs": [
    {
     "name": "stdout",
     "output_type": "stream",
     "text": [
      "Cannot divide by zero\n",
      "Error: Cannot multiply by negative numbers\n"
     ]
    }
   ],
   "source": [
    "def divide(x: int|float, y: int|float) -> float:\n",
    "    if y == 0:\n",
    "        raise ValueError(\"Cannot divide by zero\")\n",
    "    \n",
    "    return x / y\n",
    "\n",
    "try:\n",
    "    result = divide(10, 0)\n",
    "except ValueError as err:\n",
    "    print(err)\n",
    "    \n",
    "    \n",
    "# Create a function called multiply that takes 2 arguments(int|float) and multiplies them. \n",
    "# It cannot work with negative numbers. Raise the appropriate error and catch it in a try except block\n",
    "\n",
    "def multiply(x: int|float, y: int|float) -> float:\n",
    "    if y or x < 0:\n",
    "        raise ValueError(\"Cannot multiply by negative numbers\")\n",
    "    return x * y\n",
    "\n",
    "try:\n",
    "    result = multiply(10, -5)\n",
    "except ValueError as err:\n",
    "    print(f\"Error: {err}\")\n"
   ]
  },
  {
   "cell_type": "markdown",
   "metadata": {},
   "source": [
    "### Custom Exceptions/User-defined Exceptions\n",
    "\n",
    "- By creation our own exception class that inherits from the base `Exception` class or any of its subclasses,\n",
    "\n",
    "**Syntax:**\n",
    "\n",
    "```python\n",
    "class MyCustomException(Exception):\n",
    "    pass\n",
    "\n",
    "def example_func():\n",
    "    raise MyCustomException(\"Something went wrong here\")\n",
    "\n",
    "try:\n",
    "    example_func()\n",
    "except MyCustomException as err:\n",
    "    print(err)\n",
    "```"
   ]
  },
  {
   "cell_type": "code",
   "execution_count": null,
   "metadata": {},
   "outputs": [
    {
     "name": "stdout",
     "output_type": "stream",
     "text": [
      "Age must be between 18 and 100\n"
     ]
    }
   ],
   "source": [
    "class InvalidAgeError(Exception):\n",
    "    \n",
    "    def __init__(self, age, message=\"Age must be between 18 and 100\"):\n",
    "        self.age = age \n",
    "        self.message = message\n",
    "        super().__init__(self.message)  # calls the message attribute from the base Exception class\n",
    "        \n",
    "        \n",
    "def set_age(age: int):\n",
    "    if age < 18 or age > 100:\n",
    "        raise InvalidAgeError(age)\n",
    "    print(f\"Age is set to {age}\")\n",
    "    \n",
    "    \n",
    "try:\n",
    "    set_age(170)\n",
    "except InvalidAgeError as error:\n",
    "    print(error.message)\n",
    "    "
   ]
  },
  {
   "cell_type": "markdown",
   "metadata": {},
   "source": [
    "### Best Practices when Raising Exceptions\n",
    "\n",
    "- **Favour specific exceptions over generic ones:** You should rise the most specific exception that suits your needs. This practice will help you track down and fix problems and errors faster and easier.\n",
    "- **Provide informative error messages and avoid exceptions with no message:** You should write descriptive and explicit error messages for all your exceptions. This practice will provide context for those debugging the code.\n",
    "- **Favour built-in exceptions over custom exceptions:** You should try to find an appropriate built-ion exception for every error in your code before writing your own exception. This practice will ensure consistency with the rest of the Python ecosystem.\n",
    "- **Avoid raising the `AssertionError` exception:** This exception is specifically for the `assert` statement and it's not appropriate for other contexts. It also may cause confusion when running tests.\n",
    "- **Raise exceptions as soon as possible:** You should check error conditions and exceptional situations early in your code. This practice will make your code more efficient by avoiding unnecessary processing that a delayed error check could throw away. This is called a fail-fast design.\n",
    "- **Explain the raised exceptions in your code's documentation:** You should explicitly list and explain all the exceptions that a given piece of code could raise. This practice helps other developers understand which exceptions they should expect and how they can handle them appropriately."
   ]
  }
 ],
 "metadata": {
  "kernelspec": {
   "display_name": ".venv",
   "language": "python",
   "name": "python3"
  },
  "language_info": {
   "codemirror_mode": {
    "name": "ipython",
    "version": 3
   },
   "file_extension": ".py",
   "mimetype": "text/x-python",
   "name": "python",
   "nbconvert_exporter": "python",
   "pygments_lexer": "ipython3",
   "version": "3.11.10"
  }
 },
 "nbformat": 4,
 "nbformat_minor": 2
}
