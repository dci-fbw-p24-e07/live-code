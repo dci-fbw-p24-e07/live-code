{
 "cells": [
  {
   "cell_type": "markdown",
   "metadata": {},
   "source": [
    "# Search Algorithms\n",
    "\n",
    "- What are search algorithms?\n",
    "- Examples of Search Algorithms:\n",
    "    1. Linear Search\n",
    "    2. Binary Search\n",
    "\n",
    "## What is a Search Algorithm?\n",
    "\n",
    "- Search algorithms are designed to solve the search problem.\n",
    "- They work to retrieve information stored within a particular data structure\n",
    "- The appropriate search algorithm to use often depends on the data structure and may also include prior knowledge about the data.\n",
    "\n",
    "### Applications of search algorithms:\n",
    "\n",
    "1. Retrieving data from a database\n",
    "2. Finding the minimum or maximum value in a list or array\n",
    "3. Checking to see if a given value is present in a set of values\n",
    "4. Finding a combination or password from a whole set of possibilities\n",
    "5. In game theory choosing the best move to make next"
   ]
  },
  {
   "cell_type": "markdown",
   "metadata": {},
   "source": [
    "### Linear Search\n",
    "\n",
    "- Linear search is a sequential searching algorithm where we start form one end and check every element of the list until the desired element is found. \n",
    "- It is the simplest search algorithm out there.\n"
   ]
  },
  {
   "cell_type": "code",
   "execution_count": 3,
   "metadata": {},
   "outputs": [
    {
     "data": {
      "text/plain": [
       "-1"
      ]
     },
     "execution_count": 3,
     "metadata": {},
     "output_type": "execute_result"
    }
   ],
   "source": [
    "def linear_search(array: list, x: int) -> int:\n",
    "    for i in range(0, len(array)):\n",
    "        if array[i] == x:\n",
    "            return i\n",
    "    return -1\n",
    "        \n",
    "data = [2, 4, 16, 7, 32, 25, 45, 33, -34]\n",
    "linear_search(data, 76)"
   ]
  },
  {
   "cell_type": "markdown",
   "metadata": {},
   "source": [
    "### Binary Search\n",
    "\n",
    "- Binary search is a search algorithm for finding an elements position in **sorted** array.\n",
    "- In this approach the element is always search for in the middle of the array.\n",
    "- It uses the divide-and-conquer principle\n",
    " "
   ]
  },
  {
   "cell_type": "code",
   "execution_count": 6,
   "metadata": {},
   "outputs": [
    {
     "data": {
      "text/plain": [
       "5"
      ]
     },
     "execution_count": 6,
     "metadata": {},
     "output_type": "execute_result"
    }
   ],
   "source": [
    "\"\"\" \n",
    "Binary search using the iterative method\n",
    "\"\"\"\n",
    "\n",
    "def binary_search(array: list, x: int) -> int:\n",
    "    low = 0  # Index of the first element\n",
    "    high = len(array) - 1  # Index of the last element\n",
    "    \n",
    "    # Repeat execution until the low and hgh pointers meet each other\n",
    "    while low <= high:\n",
    "        \n",
    "        # determine the mid point\n",
    "        mid = low + (high - low) // 2\n",
    "        \n",
    "        # Check if mid point is equal to x\n",
    "        if x == array[mid]:\n",
    "            \n",
    "            # return mid point\n",
    "            return mid\n",
    "        \n",
    "        # Check if x is greater than mid point\n",
    "        elif x > array[mid]:\n",
    "            \n",
    "            # Increment low value to right side\n",
    "            low = mid + 1\n",
    "            \n",
    "        # Else x is less than mid point\n",
    "        else:\n",
    "            \n",
    "            # Decrement high value to left side\n",
    "            high = mid - 1\n",
    "            \n",
    "    # return if value not found\n",
    "    return -1\n",
    "\n",
    "data = [-5, -1, 3, 5, 7, 10, 15, 24, 55, 67, 100, 112]\n",
    "binary_search(data, 10)"
   ]
  },
  {
   "cell_type": "code",
   "execution_count": null,
   "metadata": {},
   "outputs": [
    {
     "data": {
      "text/plain": [
       "9"
      ]
     },
     "execution_count": 9,
     "metadata": {},
     "output_type": "execute_result"
    }
   ],
   "source": [
    "\"\"\" \n",
    "Binary Search using Recursion\n",
    "\"\"\"\n",
    "\n",
    "def binary_search(array: list, x: int, low: int, high: int):\n",
    "    # low = 0  # Index of the first element\n",
    "    # high = len(array) - 1  # Index of the last element\n",
    "    \n",
    "    # Check if high is greater than low\n",
    "    if high >= low:\n",
    "        \n",
    "        # determine the mid point\n",
    "        mid = low + (high - low) // 2\n",
    "        \n",
    "        # Check if mid is equal to x\n",
    "        if x == array[mid]:\n",
    "            # return mid\n",
    "            return mid\n",
    "        \n",
    "        # check if x is greater than mid point\n",
    "        elif x > array[mid]:\n",
    "            # Increment low index\n",
    "            low = mid + 1\n",
    "            # Search the right half - using recursion\n",
    "            return binary_search(array, x, low, high)\n",
    "        \n",
    "        # check if x is less than mid point\n",
    "        else:\n",
    "            # Decrement high index\n",
    "            high = mid - 1\n",
    "            # Search the left half - using recursion\n",
    "            return binary_search(array, x, low, high) \n",
    "    \n",
    "data = [-5, -1, 3, 5, 7, 10, 15, 24, 55, 67, 100, 112]\n",
    "binary_search(data, 67, 0, len(data) - 1)\n",
    "    "
   ]
  }
 ],
 "metadata": {
  "kernelspec": {
   "display_name": ".venv",
   "language": "python",
   "name": "python3"
  },
  "language_info": {
   "codemirror_mode": {
    "name": "ipython",
    "version": 3
   },
   "file_extension": ".py",
   "mimetype": "text/x-python",
   "name": "python",
   "nbconvert_exporter": "python",
   "pygments_lexer": "ipython3",
   "version": "3.11.10"
  }
 },
 "nbformat": 4,
 "nbformat_minor": 2
}
