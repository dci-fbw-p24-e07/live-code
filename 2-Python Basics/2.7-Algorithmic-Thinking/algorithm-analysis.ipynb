{
 "cells": [
  {
   "cell_type": "markdown",
   "metadata": {},
   "source": [
    "# Algorithm Analysis\n",
    "\n",
    "- What is Algorithm Analysis?\n",
    "- Why it is important\n",
    "- Big-O notation:\n",
    "    - Constant\n",
    "    - Linear\n",
    "    - Quadratic\n",
    "    - Logarithmic\n",
    "- Worst vs Best Case\n",
    "\n",
    "## What is Algorithm Analysis\n",
    "\n",
    "- The analysis of complexity of different algorithms and finding the most efficient algorithm to solve the problem at hand.\n",
    "- Big-O notation is statistical measure used to describe the complexity of an algorithm.\n",
    "\n",
    "> Big-O notation is one of the measures used for algorithmic complexity. Some others include Big-Omega and Big-Theta. Big-Omega, Big-Theta and Big-O are intuitively equal to the best, average and worst time complexity an algorithm can achieve. We typically used Big-O as a measure, instead of the other 2, because it can guarantee that an algorithm runs in an acceptable complexity in its worst case, it will work in the average and best case as well.\n",
    "\n",
    "## The importance of Algorithm Analysis\n",
    "\n",
    "- The execution time shows that the first algorithm is faster than the second one. When dealing with larger inputs the performance might be more significant.\n",
    "- However, execution is not a good metric to measure the complexity of an algorithm because it depends on the hardware\n"
   ]
  },
  {
   "cell_type": "code",
   "execution_count": 11,
   "metadata": {},
   "outputs": [
    {
     "name": "stdout",
     "output_type": "stream",
     "text": [
      "900 ns ± 80 ns per loop (mean ± std. dev. of 7 runs, 1,000,000 loops each)\n"
     ]
    }
   ],
   "source": [
    "def fact_1(n):\n",
    "    product = 1  # Initialize the product variable\n",
    "    for i in range(n):  # Execute a loop from 1 to n\n",
    "        product = product * (i + 1)  # Multiplying the value of product by the number being iterated\n",
    "    return product \n",
    "\n",
    "%timeit fact_1(5) "
   ]
  },
  {
   "cell_type": "code",
   "execution_count": 12,
   "metadata": {},
   "outputs": [
    {
     "name": "stdout",
     "output_type": "stream",
     "text": [
      "1.01 μs ± 110 ns per loop (mean ± std. dev. of 7 runs, 1,000,000 loops each)\n"
     ]
    }
   ],
   "source": [
    "def fact_2(n):\n",
    "    if n == 0: \n",
    "        return 1\n",
    "    else:\n",
    "        return n * fact_2(n - 1)\n",
    "    \n",
    "%timeit fact_2(5)"
   ]
  },
  {
   "cell_type": "markdown",
   "metadata": {},
   "source": [
    "### Big-O Notation for Algorithm Analysis\n",
    "\n",
    "- The Big-O notation signifies the relationship between the input to the algorithm and the steps required to execute the algorithm.\n",
    "- It is denoted by a capital \"O\" followed by an opening and closing parenthesis. Inside the parenthesis the relationship between the input and the steps taken by the algorithm is represented using \"n\", for example: `O(n)`\n",
    "> The key thing is Big-O is not interested in a particular instance in which you run a algorithm, such as `fact_2(5)`, but rather in how well it scales when input is increased. \n",
    "\n",
    "For example:\n",
    "- if there is a linear relationship between the input and the steps taken by an algorithm the Big-O notation will be `O(n)`. Similarly Big-O notation for Quadratic functions is `O(n^2)`\n",
    "\n",
    "- _O(n)_: `n=1` 1 step is taken. At `n=10`, 10 steps are taken.\n",
    "- _O(n^2)_: At `n=1` 1 step is taken. At `n=10`, 100 steps are taken.\n",
    "\n",
    "- Here are some common Big-O functions:\n",
    "\n",
    "| Name | Big-O |\n",
    "|------|-------|\n",
    "| **Constant** | `O(c)` or `O(1)` |\n",
    "| **Linear** | `O(n)` | \n",
    "| **Quadratic** | `O(n^2)` |\n",
    "| Cubic | `O(n^3)` |\n",
    "| Exponential | `O(2^n)` |\n",
    "| **Logarithmic** | `O(log(n))` |\n",
    "| Log Linear | `O(nlog(n))` |\n",
    "\n",
    "![Big-O Functions](https://s3.stackabuse.com/media/articles/big-o-notation-and-algorithm-analysis-with-python-examples-1.png)\n",
    "\n",
    "> In a general sense anything worse than linear is considered bad complexity(i.e inefficient). Linear complexity is okay and considered a necessary evil. Logarithmic is good. Constant is amazing."
   ]
  },
  {
   "cell_type": "markdown",
   "metadata": {},
   "source": [
    "#### Constant Complexity  - O(c) or O(1)\n",
    "\n",
    "- The complexity of an algorithm is said to be constant if the steps required to complete the execution of the algorithm remain constant, no matter the number of inputs. "
   ]
  },
  {
   "cell_type": "code",
   "execution_count": 14,
   "metadata": {},
   "outputs": [
    {
     "data": {
      "text/plain": [
       "100"
      ]
     },
     "execution_count": 14,
     "metadata": {},
     "output_type": "execute_result"
    }
   ],
   "source": [
    "def constant(items: list):\n",
    "    result = items[0] * items[0] # Finding the square of the first element\n",
    "    return result # Returning the result\n",
    "\n",
    "constant([5, 6, 10, 45])\n",
    "constant([10, 67, 87, 45, 34, 67, 86, 23, 56, 78])"
   ]
  },
  {
   "cell_type": "code",
   "execution_count": null,
   "metadata": {},
   "outputs": [],
   "source": [
    "users = {}\n",
    "\n",
    "def create_user(username, password, email):\n",
    "    users[username] = {\n",
    "        \"password\": password,\n",
    "        \"email\": email\n",
    "    }"
   ]
  },
  {
   "cell_type": "markdown",
   "metadata": {},
   "source": [
    "#### Linear Complexity - O(n)\n",
    "\n",
    "- The complexity of an algorithm is said to be linear if the steps required to complete the execution of an algorithm increase or decrease linearly with the number of inputs. The number of steps taken is directly related to the number of inputs\n",
    "- Linear complexity is denoted by `O(n)`"
   ]
  },
  {
   "cell_type": "code",
   "execution_count": 17,
   "metadata": {},
   "outputs": [
    {
     "name": "stdout",
     "output_type": "stream",
     "text": [
      "1\n",
      "3\n",
      "5\n",
      "6\n",
      "7\n",
      "56\n",
      "76\n"
     ]
    }
   ],
   "source": [
    "\n",
    "def linear(items: list):\n",
    "    for item in items:\n",
    "        print(item)\n",
    "        \n",
    "        \n",
    "linear([1, 3, 5, 6, 7, 56, 76])"
   ]
  },
  {
   "cell_type": "code",
   "execution_count": 23,
   "metadata": {},
   "outputs": [
    {
     "name": "stdout",
     "output_type": "stream",
     "text": [
      "1\n",
      "3\n",
      "5\n",
      "6\n",
      "1\n",
      "3\n",
      "5\n",
      "6\n"
     ]
    }
   ],
   "source": [
    "def linear_2(items):\n",
    "    \n",
    "    for item in items:\n",
    "        print(item)\n",
    "        \n",
    "    for item in items:\n",
    "        print(item)\n",
    "        \n",
    "linear_2([1, 3, 5, 6])"
   ]
  },
  {
   "cell_type": "markdown",
   "metadata": {},
   "source": [
    "#### Quadratic Complexity - O(n^2)\n",
    "\n",
    "- The complexity is said to be quadratic when the steps required to execute the algorithm are a quadratic function of the number of items in the input.\n",
    "- Quadratic complexity is denoted O(n^2)\n"
   ]
  },
  {
   "cell_type": "code",
   "execution_count": 22,
   "metadata": {},
   "outputs": [
    {
     "name": "stdout",
     "output_type": "stream",
     "text": [
      "1 1\n",
      "1 2\n",
      "1 4\n",
      "1 7\n",
      "2 1\n",
      "2 2\n",
      "2 4\n",
      "2 7\n",
      "4 1\n",
      "4 2\n",
      "4 4\n",
      "4 7\n",
      "7 1\n",
      "7 2\n",
      "7 4\n",
      "7 7\n"
     ]
    }
   ],
   "source": [
    "\"\"\" \n",
    "We have an outer loop that iterates through all the items in the lsit\n",
    "and then the nested inner loop which again iterates through the items in the list. \n",
    "The total number of steps is n*n, where n is the number of inputs in the array. \n",
    "\"\"\"\n",
    "\n",
    "def quadratic(items: list):\n",
    "    for item in items:\n",
    "        for item2 in items:\n",
    "            print(item, item2)\n",
    "            \n",
    "quadratic([1, 2, 4, 7])\n",
    "\n"
   ]
  },
  {
   "cell_type": "markdown",
   "metadata": {},
   "source": [
    "#### Logarithmic Complexity - O(log(n))\n",
    "\n",
    "- Some algorithms achieve logarithmic complexity, such as Binary Search. \n",
    "- Binary Search searches for an element by checking the middle of an array and pruning the half in which the element may not exist. It does this again for the remaining half and continues until the element is found. In each step it halves the number of elements in the array.\n",
    "> This requires the array to be sorted in order to make accurate assumptions about the data \n",
    "- When you can make assumptions about the data you can take steps to reduce the complexity of an algorithm."
   ]
  },
  {
   "cell_type": "markdown",
   "metadata": {},
   "source": [
    "### Worst vs Best Case Complexity\n",
    "\n",
    "- The worst case complexity remains the same even if you try to find a non-existent element in a list - it takes n steps to verify that there is no such element in a list. Therefore worst-case remains O(n)"
   ]
  },
  {
   "cell_type": "code",
   "execution_count": 25,
   "metadata": {},
   "outputs": [
    {
     "name": "stdout",
     "output_type": "stream",
     "text": [
      "True\n",
      "None\n"
     ]
    }
   ],
   "source": [
    "def num_search(num: int, num_list: list):\n",
    "    for item in num_list:\n",
    "        if item == num:\n",
    "            return True\n",
    "    return None\n",
    "\n",
    "print(num_search(2, [2, 4, 6, 8, 10])) # Best-case: O(1)\n",
    "num_search(10, [2, 4, 6, 8, 10]) # Worst-case: O(n)\n",
    "print(num_search(12, [2, 4, 6, 8, 10])) # Worst-case: O(n)"
   ]
  }
 ],
 "metadata": {
  "kernelspec": {
   "display_name": ".venv",
   "language": "python",
   "name": "python3"
  },
  "language_info": {
   "codemirror_mode": {
    "name": "ipython",
    "version": 3
   },
   "file_extension": ".py",
   "mimetype": "text/x-python",
   "name": "python",
   "nbconvert_exporter": "python",
   "pygments_lexer": "ipython3",
   "version": "3.11.10"
  }
 },
 "nbformat": 4,
 "nbformat_minor": 2
}
