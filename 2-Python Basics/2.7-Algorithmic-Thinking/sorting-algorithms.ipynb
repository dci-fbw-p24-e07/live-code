{
 "cells": [
  {
   "cell_type": "markdown",
   "metadata": {},
   "source": [
    "# Sorting Algorithms\n",
    "\n",
    "- What are sorting algorithms?\n",
    "- Examples of sorting algorithms:\n",
    "    1. Bubble Sort\n",
    "    2. Quick Sort\n",
    "    3. Merge Sort\n",
    "\n",
    "## What are sorting algorithms?\n",
    "\n",
    "![Sorting a List](https://www.programiz.com/sites/tutorial2program/files/sorting.png)\n",
    "\n",
    "- A sorting is used to arrange elements of a list/array into a specific order. \n",
    "- This can be numerical or lexicographical(alphabetic). \n",
    "- There are quite a number of sorting implementations and these can be used to make your program more efficient\n",
    "- Sorting can solve a couple of problems in programming:\n",
    "    1. **Searching:** Searching for an item on a list works much faster if it is sorted.\n",
    "    2. **Selection:** Selecting items from a list based on their relationship to the rest of the items is easier with sorted data.\n",
    "    3. **Duplicates:** Finding duplicate data/values on a list can be done very quickly if the list is sorted.\n",
    "    4. **Distribution:** Analyzing the frequency distribution of items in a list is very fast if the list is sorted. For example finding the element that appears the most or least often."
   ]
  },
  {
   "cell_type": "markdown",
   "metadata": {},
   "source": [
    "### Bubble Sort \n",
    "\n",
    "- Is a sorting algorithm that compares two adjacent elements and swaps until they are in the intended order.\n",
    "- Just like bubbles in water that rise up to the surface, each element of the array will move to end in each iteration. \n"
   ]
  },
  {
   "cell_type": "code",
   "execution_count": null,
   "metadata": {},
   "outputs": [
    {
     "data": {
      "text/plain": [
       "[55, 45, 22, 15, 13, 8, 7, 3, 1, -897]"
      ]
     },
     "execution_count": 5,
     "metadata": {},
     "output_type": "execute_result"
    }
   ],
   "source": [
    "def bubble_sort(num_list: list) -> list:\n",
    "    # loop through to access each element - use the index\n",
    "    for i in range(len(num_list)):\n",
    "        \n",
    "        # loop to compare list/array elements - use the index\n",
    "        for j in range(0, len(num_list) - i - 1):\n",
    "        \n",
    "            # Compare the two adjacent elements - ascending (>) or descending (<)\n",
    "            if num_list[j] > num_list[j + 1]:\n",
    "                \n",
    "                # Swap elements if they are not in intended order\n",
    "                temp = num_list[j] # temporarily holding the value\n",
    "                num_list[j] = num_list[j + 1]\n",
    "                num_list[j + 1] = temp\n",
    "                \n",
    "    return num_list\n",
    "    \n",
    "bubble_sort([45, 3, 55, 7, -897, 1, 13, 15, 8, 22])"
   ]
  },
  {
   "cell_type": "markdown",
   "metadata": {},
   "source": [
    "### Quicksort\n",
    "\n",
    "- Based on the **divide-and-conquer** approach where:\n",
    "    1. An array is divided into subarrays by selecting a pivot element for the array. While dividing the array, the pivot element should be positioned in such a way that the elements less than the pivot are kept on the left side and elements greater than the pivot are kept on the right side of then pivot.\n",
    "    2. The left and right subarrays are also divided using the same approach. This process continues until each subarray contains a single element.\n",
    "    3. At this point, elements are already sorted. Finally, elements are combined to form a sorted array."
   ]
  },
  {
   "cell_type": "code",
   "execution_count": 9,
   "metadata": {},
   "outputs": [
    {
     "name": "stdout",
     "output_type": "stream",
     "text": [
      "[-6, 1, 4, 6, 15, 22, 32, 41, 57, 66, 100]\n"
     ]
    }
   ],
   "source": [
    "def partition(array: list, low: int, high: int) -> int:\n",
    "    \"\"\"Returns an integer determining the partition position\"\"\"\n",
    "    # Choose the rightmost element\n",
    "    pivot = array[high]\n",
    "    \n",
    "    # pointer for a greater element\n",
    "    i = low - 1\n",
    "    \n",
    "    # go through all elements\n",
    "    for j in range(low, high):\n",
    "        \n",
    "        # Compare each element with the pivot\n",
    "        if array[j] <= pivot:\n",
    "            \n",
    "            # If the element is smaller than the pivot swap it with the element pointed by i\n",
    "            i = i + 1\n",
    "        \n",
    "            # Swap the element at i with element at j\n",
    "            array[i], array[j] = array[j], array[i]\n",
    "            \n",
    "    # Swap the pivot point with the greater element specified by i\n",
    "    array[i + 1], array[high] = array[high], array[i + 1]\n",
    "    \n",
    "    # Return the position where partition is done\n",
    "    return i + 1\n",
    "\n",
    "def quick_sort(array: list, low: int, high: int):\n",
    "    # Check if low is smaller than high\n",
    "    if low < high:\n",
    "    \n",
    "        # find the pivot element\n",
    "        # element smaller than pivot are the left\n",
    "        # elements greater than the pivot are on the right\n",
    "        part = partition(array, low, high)\n",
    "    \n",
    "        # recursive call on the left of pivot\n",
    "        quick_sort(array, low, part - 1)\n",
    "    \n",
    "        # recursive call on the right of pivot\n",
    "        quick_sort(array, part + 1, high)\n",
    "        \n",
    "\n",
    "data = [4, 6, 1, 32, 15, -6, 100, 57, 66, 22, 41]\n",
    "size = len(data)\n",
    "\n",
    "quick_sort(data, 0, size - 1)\n",
    "print(data)"
   ]
  },
  {
   "cell_type": "markdown",
   "metadata": {},
   "source": [
    "### Merge Sort\n",
    "\n",
    "- The most popular sorting algorithm that is based on the `divide-and-conquer` approach.\n",
    "- A problem is divided into multiple sub-problems. Each sub-problem is solved individually. Finally sub-problems are combined to form one final solution."
   ]
  },
  {
   "cell_type": "code",
   "execution_count": 10,
   "metadata": {},
   "outputs": [
    {
     "name": "stdout",
     "output_type": "stream",
     "text": [
      "[-54, -24, 30, 44, 56, 76, 96, 109, 150, 200, 1101]\n"
     ]
    }
   ],
   "source": [
    "def merge_sort(array: list):\n",
    "    # Verify that array has more than on element\n",
    "    if len(array) > 1:\n",
    "    \n",
    "        # Divide the array into 2\n",
    "        # m when we determine the mid point to divide the element by\n",
    "        # l the left of the array - using slicing\n",
    "        # r the right side of the array - using slicing\n",
    "        m = len(array) // 2\n",
    "        l = array[:m]\n",
    "        r = array[m:]\n",
    "        \n",
    "        # Recursively call merge sort on each sub-array\n",
    "        merge_sort(l)\n",
    "        merge_sort(r)\n",
    "    \n",
    "        # Keep track of current indexes on sub-arrays and main array\n",
    "        i = 0  # current index of left sub array\n",
    "        j = 0  # current index of right sub array\n",
    "        k = 0  # current index of the main array\n",
    "    \n",
    "        # Until we run out of element of either l or r pick the larger \n",
    "        # among the elements l and r and place them in the correct position\n",
    "        while i < len(l) and j < len(r):\n",
    "            if l[i] < r[j]:\n",
    "                array[k] = l[i]\n",
    "                i += 1\n",
    "            else:\n",
    "                array[k] = r[j]\n",
    "                j += 1\n",
    "            k += 1\n",
    "    \n",
    "        # When we run out of elements in either l or r \\\n",
    "        # pick up the remaining elements and put them in list\n",
    "        while i < len(l):\n",
    "            array[k] = l[i]\n",
    "            i += 1\n",
    "            k += 1\n",
    "            \n",
    "        while j < len(r):\n",
    "            array[k] = r[j]\n",
    "            j += 1\n",
    "            k += 1\n",
    "            \n",
    "data = [109, 200, 150, -24, 30, 1101, 56, 76, 44, 96, -54]\n",
    "merge_sort(data)\n",
    "print(data)"
   ]
  },
  {
   "cell_type": "markdown",
   "metadata": {},
   "source": [
    "### Extra resources\n",
    "\n",
    "- Sorting Algorithm Visualizer - [https://www.cs.usfca.edu/~galles/visualization/ComparisonSort.html](https://www.cs.usfca.edu/~galles/visualization/ComparisonSort.html)"
   ]
  },
  {
   "cell_type": "markdown",
   "metadata": {},
   "source": []
  }
 ],
 "metadata": {
  "kernelspec": {
   "display_name": ".venv",
   "language": "python",
   "name": "python3"
  },
  "language_info": {
   "codemirror_mode": {
    "name": "ipython",
    "version": 3
   },
   "file_extension": ".py",
   "mimetype": "text/x-python",
   "name": "python",
   "nbconvert_exporter": "python",
   "pygments_lexer": "ipython3",
   "version": "3.11.10"
  }
 },
 "nbformat": 4,
 "nbformat_minor": 2
}
